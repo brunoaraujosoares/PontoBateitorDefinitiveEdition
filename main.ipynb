{
 "cells": [
  {
   "cell_type": "code",
   "execution_count": 66,
   "metadata": {},
   "outputs": [],
   "source": [
    "# testa se o arquivo de configurações existe\n",
    "def testa_arquivo(filePath='variaveis.py'):\n",
    "    try:\n",
    "        with open(filePath, 'r') as f:\n",
    "            return True\n",
    "    except FileNotFoundError as e:\n",
    "        print('O arquivo de configuração não foi encontrado.')\n",
    "        if criar_arquivo(filePath):\n",
    "            return True\n",
    "        else:\n",
    "            return e\n",
    "    \n",
    "#cria o arquivo de configurações\n",
    "def criar_arquivo(filePath):\n",
    "    print('Criando o arquivo de configuração.')\n",
    "    processo = leia_numero_processo()\n",
    "    with open(filePath, 'a') as f:\n",
    "        saida = '# Texto que será inserido no campo de texto de evento externo\\n'\n",
    "        saida+= f'texto = \\'Trabalho remoto. Processo SEI n, {processo}.\\''\n",
    "        f.write(saida)\n",
    "    return True\n",
    "\n",
    "# input para ler o número do processo            \n",
    "def leia_numero_processo():\n",
    "    while True:\n",
    "        processo = str(input('Digite o número do processo de Trabalho Remoto: ')).strip()\n",
    "        if valida_processo(processo):\n",
    "            return processo\n",
    "        else:\n",
    "            print('Número de processo inválido.')\n",
    "\n",
    "# validar o nº do processo\n",
    "def valida_processo(processo):\n",
    "    # TODO: fazer expressão regular para validar o número do processo\n",
    "    # 53542.001640/2020-28\n",
    "    if '53542.' not in processo:\n",
    "        return False\n",
    "    else:\n",
    "        return True\n",
    "    \n",
    "# FUNÇÃO PARA EXTRAIR OS LINKS com as páginas de cada dia a ser editado\n",
    "def procura_link(html,texto_link):\n",
    "    link = html.split('href=\"')\n",
    "    for item in link:\n",
    "        if item.find(texto_link) != -1:\n",
    "            link = item.lower()\n",
    "            link = item.split(('\">'))\n",
    "            link = link[0].replace('amp;','')\n",
    "    return link"
   ]
  },
  {
   "cell_type": "code",
   "execution_count": 43,
   "metadata": {},
   "outputs": [
    {
     "data": {
      "text/plain": [
       "True"
      ]
     },
     "execution_count": 43,
     "metadata": {},
     "output_type": "execute_result"
    }
   ],
   "source": [
    "if testa_arquivo():\n",
    "    print('Acessando arquivo de configuração: OK')\n",
    "\n"
   ]
  },
  {
   "cell_type": "code",
   "execution_count": 67,
   "metadata": {
    "scrolled": false
   },
   "outputs": [],
   "source": [
    "import variaveis\n",
    "texto = variaveis.texto\n",
    "\n",
    "from selenium import webdriver # navegador web automatizado\n",
    "from time import sleep\n",
    "espera = 2\n",
    "\n",
    "#inicializa o navegador\n",
    "driver = webdriver.Chrome('./chromedriver.exe')\n",
    "driver.get(\"http://sistemasnet/sarh/\") # acessa o SARH\n",
    "sleep(espera) # aguarda carregar"
   ]
  },
  {
   "cell_type": "code",
   "execution_count": 65,
   "metadata": {},
   "outputs": [],
   "source": [
    "driver.find_element_by_link_text(\"Recursos Humanos (SARH)\").click()\n",
    "sleep(espera) # aguarda carregar\n",
    "driver.find_element_by_link_text(\"HORÁRIO FLEXÍVEL\").click()\n",
    "sleep(espera) # aguarda carregar\n",
    "driver.find_element_by_link_text(\"PAINEL DO SERVIDOR\").click()\n",
    "sleep(espera) # aguarda carregar"
   ]
  },
  {
   "cell_type": "code",
   "execution_count": 60,
   "metadata": {},
   "outputs": [],
   "source": [
    "# listar os dias editaveis do mês corrente"
   ]
  },
  {
   "cell_type": "code",
   "execution_count": 61,
   "metadata": {},
   "outputs": [],
   "source": []
  },
  {
   "cell_type": "code",
   "execution_count": 68,
   "metadata": {},
   "outputs": [],
   "source": [
    "\n"
   ]
  },
  {
   "cell_type": "code",
   "execution_count": null,
   "metadata": {},
   "outputs": [],
   "source": []
  }
 ],
 "metadata": {
  "kernelspec": {
   "display_name": "Python 3",
   "language": "python",
   "name": "python3"
  },
  "language_info": {
   "codemirror_mode": {
    "name": "ipython",
    "version": 3
   },
   "file_extension": ".py",
   "mimetype": "text/x-python",
   "name": "python",
   "nbconvert_exporter": "python",
   "pygments_lexer": "ipython3",
   "version": "3.8.5"
  }
 },
 "nbformat": 4,
 "nbformat_minor": 4
}
