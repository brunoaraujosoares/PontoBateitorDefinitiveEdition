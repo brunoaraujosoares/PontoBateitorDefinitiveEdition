{
 "cells": [
  {
   "cell_type": "code",
   "execution_count": 49,
   "metadata": {},
   "outputs": [],
   "source": []
  },
  {
   "cell_type": "code",
   "execution_count": 50,
   "metadata": {
    "scrolled": false
   },
   "outputs": [
    {
     "name": "stdout",
     "output_type": "stream",
     "text": [
      "Acessando arquivo de configuração: OK\n",
      "Inicializando o navegador autmático.\n",
      "Percorrendo o site em busca do PAINEL DO SERVIDOR\n",
      "PAINEL DO SERVIDOR encontrado!\n",
      "PAINEL DO SERVIDOR adicionado ao arquivo de variáveis\n",
      "Não existem dias pendentes no mês corrente.\n"
     ]
    }
   ],
   "source": [
    "if testa_arquivo():\n",
    "    print('Acessando arquivo de configuração: OK')\n",
    "\n",
    "from util import testa_arquivo, criar_arquivo, leia_numero_processo,valida_processo, elementoExiste, escreve_arquivo\n",
    "import variaveis\n",
    "texto = variaveis.texto\n",
    "try:\n",
    "    painel_do_servidor = variaveis.painel_do_servidor\n",
    "except:\n",
    "    painel_do_servidor = False\n",
    "\n",
    "from selenium import webdriver # navegador web automatizado\n",
    "from time import sleep\n",
    "espera = 2\n",
    "\n",
    "print('Inicializando o navegador autmático.')\n",
    "#inicializa o navegador\n",
    "driver = webdriver.Chrome('./chromedriver.exe')\n",
    "\n",
    "if painel_do_servidor == False:\n",
    "    print('Percorrendo o site em busca do PAINEL DO SERVIDOR')\n",
    "    driver.get(\"http://sistemasnet/sarh/\") # acessa o SARH\n",
    "    sleep(10) # espera aguardar para colocar a senha, se não estiver usando computador corporativo.\n",
    "\n",
    "    driver.find_element_by_link_text(\"Recursos Humanos (SARH)\").click()\n",
    "    sleep(espera) # aguarda carregar\n",
    "    driver.find_element_by_link_text(\"HORÁRIO FLEXÍVEL\").click()\n",
    "    sleep(espera) # aguarda carregar\n",
    "    driver.find_element_by_link_text(\"PAINEL DO SERVIDOR\").click()\n",
    "    sleep(espera) # aguarda carregar\n",
    "    # pega a url do painel do servidod\n",
    "    # todo: salvar no arquivo de variáveis o painel do servidor\n",
    "    painel_do_servidor = driver.current_url\n",
    "    print('PAINEL DO SERVIDOR encontrado!')\n",
    "    # adiciona a \n",
    "    escreve_arquivo(url=painel_do_servidor, filePath='variaveis.py')\n",
    "    print('PAINEL DO SERVIDOR adicionado ao arquivo de variáveis')\n",
    "\n",
    "else:\n",
    "     driver.get(painel_do_servidor) \n",
    "    \n",
    "# listar os dias editaveis do mês corrente\n",
    "## percorre todas as linhas procurando as que não foram preenchidas\n",
    "html = driver.find_element_by_css_selector('#tableEvento').get_attribute('innerHTML')\n",
    "html = html.split('>07-006<')\n",
    "html.remove(html[0])\n",
    "\n",
    "url_tela_de_controle = \"http://sistemasnet/sarh/HorarioFlexivelNovo/Gerente/Controle/\"\n",
    "\n",
    "for i,v in enumerate(html):\n",
    "    print(f'Editando dia {i+1} de {len(html)}')\n",
    "    inicio_link = v.find('CadastrarOcorrencia.asp')\n",
    "    fim_link = v.find('=\">Editar')\n",
    "    link = v[inicio_link:fim_link].replace('amp;','')\n",
    "    \n",
    "    driver.get(url_tela_de_controle+link)\n",
    "\n",
    "    fonte = driver.page_source\n",
    "    posicao = fonte.find('<div style=\"display:inline;\" id=\"divSaldo\"><font color=\"red\">-')\n",
    "    # saldo do dia vai preencher o campo de horas de Evento Externo (id=TempoJ13)\n",
    "    saldo = fonte[posicao+62:posicao+67]\n",
    "    #print(saldo)\n",
    "\n",
    "    # todo: testar o formato do saldo\n",
    "\n",
    "    sleep(1)\n",
    "    #print(f's= {saldo}')\n",
    "    # preenche o saldo no campo 07-013 Evento Externo\n",
    "    script  = f'document.getElementById(\\'TempoJ13\\').value=\\'{saldo}\\'; \\n'\n",
    "    script += 'valida_horas2(document.getElementById(\\'TempoJ13\\'),\\'TempoJ13\\'); \\n'\n",
    "    script += 'RecalculaJornada(13,document.getElementById(\\'TempoJ13\\').value); \\n'\n",
    "    script += f'document.getElementById(\\'descJustificativaJ13\\').value = \\'{texto}\\'; \\n'\n",
    "    script += 'document.getElementById(\\'Tempo6\\').value=\\'00:00\\';'\n",
    "    script += 'valida_horas2(document.getElementById(\\'Tempo6\\'),\\'Tempo6\\');'\n",
    "    script += 'RecalculaSaldoTotal(6,document.getElementById(\\'Tempo6\\').value);'\n",
    "    script += 'salvar();'\n",
    "    driver.execute_script(script)\n",
    "\n",
    "    sleep(espera)\n",
    "\n",
    "    alert = driver.switch_to.alert\n",
    "    alert.accept()\n",
    "        \n",
    "print('Não existem dias pendentes no mês corrente.')\n",
    "driver.get(painel_do_servidor) # ACESSA o Painel do servidor\n",
    "\n",
    "\n",
    "# colocar o código do mês anterior"
   ]
  },
  {
   "cell_type": "code",
   "execution_count": 39,
   "metadata": {},
   "outputs": [
    {
     "name": "stdout",
     "output_type": "stream",
     "text": [
      "http://sistemasnet/sarh/HorarioFlexivelNovo/Gerente/Controle/CadastrarOcorrencia.asp?sem=40&acao=edit&dia=5158823&ger=&fer\n"
     ]
    }
   ],
   "source": [
    "print(url_tela_de_controle+link)\n",
    "# http://sistemasnet/sarh/horarioflexivelNovo/gerente/controle/CadastrarOcorrencia.asp?sem=40&acao=edit&dia=5157863&ger=&fer="
   ]
  },
  {
   "cell_type": "code",
   "execution_count": 35,
   "metadata": {},
   "outputs": [
    {
     "name": "stdout",
     "output_type": "stream",
     "text": [
      "-1\n",
      "s\" hr\n"
     ]
    }
   ],
   "source": [
    "fonte = driver.page_source\n",
    "posicao = fonte.find('<div style=\"display:inline;\" id=\"divSaldo\"><font color=\"red\">-')\n",
    "print(posicao)\n",
    "# saldo do dia vai preencher o campo de horas de Evento Externo (id=TempoJ13)\n",
    "saldo = fonte[posicao+62:posicao+67]\n",
    "print(saldo)"
   ]
  },
  {
   "cell_type": "code",
   "execution_count": 30,
   "metadata": {},
   "outputs": [
    {
     "data": {
      "text/plain": [
       "['/a> (<font color=\"red\">-07:55</font>)<br><div align=\"left\" id=\"descritivo271\" name=\"descritivo271\" class=\"descritivo\" style=\"position: absolute; left: 550px; display: none;\"> <b> [07-006] A Compensar</b> - Campo destinado ao lançamento de horas a menor sujeitas à compensação por parte do servidor, ausências justificadas e aceitas pelo gerente.</div>\\n\\t</td>\\t\\n\\t\\n\\t<td class=\"PSV_coluna_07c\">\\n\\t<font color=\"blue\">00:00</font>\\n\\t</td>\\n\\t<td class=\"PSV_coluna_07c\">\\n\\t<font color=\"red\">-07:55</font>\\n\\t</td>\\n\\t\\n\\t\\t\\t    <td class=\"PSV_coluna_07c\">\\n\\t\\t\\t\\t    &nbsp;\\n\\t\\t        </td>\\n\\t\\t    \\t\\t\\t\\t\\n\\t\\t\\t\\t\\n\\t\\t\\t\\t\\t<td class=\"PSV_coluna_07c\">\\n\\t\\t\\t\\t\\t\\t<a href=\"CadastrarOcorrencia.asp?sem=40&amp;acao=edit&amp;dia=5157863&amp;ger=&amp;fer=\">Editar</a>\\n\\t\\t\\t\\t\\t</td>\\n\\t\\t\\t\\t\\n</tr>\\n\\n\\n<tr onclick=\"\" style=\"\" id=\"trRegistroDia27\">\\n\\t<td class=\"PSV_coluna_07d\" colspan=\"8\" valign=\"top\">\\n\\t\\t<table border=\"0\" cellpadding=\"0\" cellspacing=\"1\" align=\"center\" width=\"80%\" style=\"font-size: 9px;display:inline;\" name=\"tableEvento\">\\n\\t\\t<tbody><tr>\\n\\t\\t\\t<td class=\"PSV_colunatitazul_02\" width=\"25%\">Entrada</td>\\t\\n\\t\\t\\t<td class=\"PSV_colunatitazul_02\" width=\"25%\">Saída</td>\\n\\t\\t\\t<td class=\"PSV_colunatitazul_02\" width=\"50%\" style=\"max-height:25px;\">Justificativa</td>\\t\\t\\n\\t\\t</tr>\\n\\t\\t<tr><td class=\"PSV_coluna_07c\" colspan=\"2\">Não há registros nesta data.</td></tr>\\n\\t\\t<!--</table>\\n\\t\\t<table border=\"0\" cellpadding=\"0\" cellspacing=\"1\" align=\"center\" width=\"40%\" style=\"font-size: 9px; display:inline;\" name=\"tableEvento\" style=\"height:100%;\">\\n\\t\\t\\n\\t\\t<tr>\\n\\t\\t\\t\\n\\t\\t</tr>\\n\\t\\t<tr>-->\\n\\t\\t\\t<tr><td rowspan=\"0\" class=\"PSV_coluna_07c\" style=\"height:100%;\"></td>\\t\\n\\t\\t</tr>\\n\\t\\t</tbody></table>\\n\\t</td>\\n</tr>\\n\\n</tbody>']"
      ]
     },
     "execution_count": 30,
     "metadata": {},
     "output_type": "execute_result"
    }
   ],
   "source": [
    "\n",
    "# LOOP PARA PREENCHER CADA DIA ENCONTRADO\n",
    "dias_editados = 0\n",
    "for item in links_para_preencher:\n",
    "    driver.get(url_tela_de_controle+item)\n",
    "    \n",
    "    controle = 0 #serve para verificar se a página já carregou\n",
    "\n",
    "    while True:\n",
    "        controle = controle + 1\n",
    "        \n",
    "        if controle > 5: # se exceder o timeout\n",
    "            print('Não foi possível conectar aos SistemasNet')\n",
    "            break\n",
    "\n",
    "        if elementoExiste('divSaldoTotal') == False:\n",
    "            time.sleep(1)\n",
    "            print(controle)\n",
    "        else:\n",
    "            dias_editados = dias_editados +1 \n",
    "            print(f'Aguarde... Editando {dias_editados} de {len(links_para_preencher)} Dia(s)')\n",
    "            html = driver.page_source\n",
    "            posicao = html.find('<TD class=PSV_colunatitazul_02 colSpan=4>Saldo do dia')\n",
    "            html = html[posicao:]\n",
    "            # saldo do dia vai preencher o campo de horas de Evento Externo (id=TempoJ13)\n",
    "            saldo = html.split('</')\n",
    "            saldo = saldo[0][-5:]\n",
    "            time.sleep(1)\n",
    "            script  = 'document.getElementById(\\'TempoJ13\\').value=\\'{}\\';'.format(saldo)  \n",
    "            script += 'valida_horas2(document.getElementById(\\'TempoJ13\\'),\\'TempoJ13\\');'\n",
    "            script += 'RecalculaJornada(13,document.getElementById(\\'TempoJ13\\'));'\n",
    "            script += 'document.getElementById(\\'descJustificativa13\\').value = \\'{}\\';'.format(texto)\n",
    "            script += 'document.getElementById(\\'Tempo6\\').value=\\'00:00\\';'\n",
    "            script += 'valida_horas2(document.getElementById(\\'Tempo6\\'),\\'Tempo6\\');'\n",
    "            script += 'RecalculaSaldoTotal(6,document.getElementById(\\'Tempo6\\').value);'\n",
    "            \n",
    "            print(script)\n",
    "            time.sleep(1)\n",
    "            driver.execute_script(script)\n",
    "            time.sleep(tempo_de_espera)\n",
    "\n",
    "            alert = driver.switch_to.alert\n",
    "            alert.accept()\n",
    "\n",
    "            break\n",
    "\n",
    "print('Não existem dias pendentes no mês corrente.')\n",
    "time.sleep(1)\n",
    "driver.get(painel_do_servidor) # ACESSA o Painel do servidor\n",
    "print('Verificando saldo do mês anterior.')\n",
    "time.sleep(tempo_de_espera)"
   ]
  },
  {
   "cell_type": "code",
   "execution_count": null,
   "metadata": {},
   "outputs": [],
   "source": [
    "\n"
   ]
  },
  {
   "cell_type": "code",
   "execution_count": 61,
   "metadata": {},
   "outputs": [],
   "source": [
    "\n",
    "\n",
    "\n",
    "# LOOP PARA PREENCHER CADA DIA ENCONTRADO\n",
    "dias_editados = 0\n",
    "for item in links_para_preencher:\n",
    "    driver.get(url_tela_de_controle+item)\n",
    "    \n",
    "    controle = 0 #serve para verificar se a página já carregou\n",
    "\n",
    "    while True:\n",
    "        controle = controle + 1\n",
    "        \n",
    "        if controle > 5: # se exceder o timeout\n",
    "            print('Não foi possível conectar aos SistemasNet')\n",
    "            break\n",
    "\n",
    "        if elementoExiste('divSaldoTotal') == False:\n",
    "            time.sleep(1)\n",
    "            print(controle)\n",
    "        else:\n",
    "            dias_editados = dias_editados +1 \n",
    "            print(f'Aguarde... Editando {dias_editados} de {len(links_para_preencher)} Dia(s)')\n",
    "            html = driver.page_source\n",
    "            posicao = html.find('<TD class=PSV_colunatitazul_02 colSpan=4>Saldo do dia')\n",
    "            html = html[posicao:]\n",
    "            # saldo do dia vai preencher o campo de horas de Evento Externo (id=TempoJ13)\n",
    "            saldo = html.split('</')\n",
    "            saldo = saldo[0][-5:]\n",
    "            time.sleep(1)\n",
    "            script  = 'document.getElementById(\\'TempoJ13\\').value=\\'{}\\';'.format(saldo)  \n",
    "            script += 'valida_horas2(document.getElementById(\\'TempoJ13\\'),\\'TempoJ13\\');'\n",
    "            script += 'RecalculaJornada(13,document.getElementById(\\'TempoJ13\\'));'\n",
    "            script += 'document.getElementById(\\'descJustificativa13\\').value = \\'{}\\';'.format(texto)\n",
    "            script += 'document.getElementById(\\'Tempo6\\').value=\\'00:00\\';'\n",
    "            script += 'valida_horas2(document.getElementById(\\'Tempo6\\'),\\'Tempo6\\');'\n",
    "            script += 'RecalculaSaldoTotal(6,document.getElementById(\\'Tempo6\\').value);'\n",
    "            script += 'salvar();'\n",
    "            print(script)\n",
    "            time.sleep(1)\n",
    "            driver.execute_script(script)\n",
    "            time.sleep(tempo_de_espera)\n",
    "\n",
    "            alert = driver.switch_to.alert\n",
    "            alert.accept()\n",
    "\n",
    "            break\n",
    "\n",
    "print('Não existem dias pendentes no mês corrente.')\n",
    "time.sleep(1)\n",
    "driver.get(painel_do_servidor) # ACESSA o Painel do servidor\n",
    "print('Verificando saldo do mês anterior.')\n",
    "time.sleep(tempo_de_espera)"
   ]
  }
 ],
 "metadata": {
  "kernelspec": {
   "display_name": "Python 3",
   "language": "python",
   "name": "python3"
  },
  "language_info": {
   "codemirror_mode": {
    "name": "ipython",
    "version": 3
   },
   "file_extension": ".py",
   "mimetype": "text/x-python",
   "name": "python",
   "nbconvert_exporter": "python",
   "pygments_lexer": "ipython3",
   "version": "3.8.5"
  }
 },
 "nbformat": 4,
 "nbformat_minor": 4
}
